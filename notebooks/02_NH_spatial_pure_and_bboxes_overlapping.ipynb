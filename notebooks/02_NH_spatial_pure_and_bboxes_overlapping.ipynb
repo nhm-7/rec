{
 "cells": [
  {
   "attachments": {},
   "cell_type": "markdown",
   "metadata": {},
   "source": [
    "### 02 - Add spatial pure definition and study the bboxes overlapping\n",
    "\n",
    "In this notebook we add new columns to the already available spatial ones. Also, we plot all normalized bboxes regarding exp_004 and related to \"spatial pure\" rec clf."
   ]
  },
  {
   "cell_type": "code",
   "execution_count": 1,
   "metadata": {},
   "outputs": [
    {
     "name": "stderr",
     "output_type": "stream",
     "text": [
      "/home/nhormann/miniconda3/envs/rec-env/lib/python3.9/site-packages/tqdm/auto.py:21: TqdmWarning: IProgress not found. Please update jupyter and ipywidgets. See https://ipywidgets.readthedocs.io/en/stable/user_install.html\n",
      "  from .autonotebook import tqdm as notebook_tqdm\n"
     ]
    }
   ],
   "source": [
    "import torch\n",
    "import pandas as pd\n",
    "import matplotlib.pyplot as plt\n",
    "\n",
    "from PIL import Image\n",
    "from torchvision.ops import box_iou\n",
    "\n",
    "from rec.utils import draw_bounding_boxes\n",
    "\n",
    "pd.set_option('display.max_colwidth', None)"
   ]
  },
  {
   "cell_type": "code",
   "execution_count": 2,
   "metadata": {},
   "outputs": [],
   "source": [
    "BASE_PATH = \"../code/rec/\""
   ]
  },
  {
   "cell_type": "code",
   "execution_count": 4,
   "metadata": {},
   "outputs": [],
   "source": [
    "def get_concat_h(im1, im2):\n",
    "    dst = Image.new('RGB', (im1.width + im2.width, im1.height))\n",
    "    dst.paste(im1, (0, 0))\n",
    "    dst.paste(im2, (im1.width, 0))\n",
    "    return dst\n",
    "\n",
    "\n",
    "def add_pure_spatial(df_valid_results):\n",
    "    mask_spatial_pure = (\n",
    "        (df_valid_results.spatial == 1) &\n",
    "        (df_valid_results.relational == 0) &\n",
    "        (df_valid_results.ordinal == 0)\n",
    "    )\n",
    "    mask_right = df_valid_results.expr.str.contains(\"right\")\n",
    "    mask_left = df_valid_results.expr.str.contains(\"left\")\n",
    "    df_valid_results.loc[(mask_spatial_pure & mask_right), \"spatial_pure_r\"] = True\n",
    "    df_valid_results.loc[~(mask_spatial_pure & mask_right), \"spatial_pure_r\"] = False\n",
    "    df_valid_results.loc[(mask_spatial_pure & mask_left), \"spatial_pure_l\"] = True\n",
    "    df_valid_results.loc[~(mask_spatial_pure & mask_left), \"spatial_pure_l\"] = False\n",
    "    return df_valid_results\n",
    "\n",
    "\n",
    "def normalize_bbox(bbox, width, height, scalar=500):\n",
    "     return [\n",
    "         int(scalar * (bbox[0] / width)),\n",
    "         int(scalar * (bbox[1] / height)),\n",
    "         int(scalar * (bbox[2] / width)),\n",
    "         int(scalar * (bbox[3] / height)),\n",
    "     ]\n",
    "\n",
    "\n",
    "def add_normalized_bboxes(df_valid_results, bbox_column_name):\n",
    "    bboxes_norm = []\n",
    "    for _, row in df_valid_results.loc[:, [\"img_filename\", bbox_column_name]].iterrows():\n",
    "        im = Image.open(f\"{BASE_PATH}{row['img_filename']}\")\n",
    "        w, h = im.size\n",
    "        bboxes_norm.append(normalize_bbox(row[bbox_column_name], w, h))\n",
    "    df_valid_results.loc[:, f\"{bbox_column_name}_norm\"] = bboxes_norm\n",
    "    return df_valid_results"
   ]
  },
  {
   "attachments": {},
   "cell_type": "markdown",
   "metadata": {},
   "source": [
    "### Read validation data"
   ]
  },
  {
   "cell_type": "code",
   "execution_count": 5,
   "metadata": {},
   "outputs": [],
   "source": [
    "df_valid_results = pd.read_parquet(\"../models/exp_004/predictions_val.parquet\")"
   ]
  },
  {
   "cell_type": "code",
   "execution_count": 6,
   "metadata": {},
   "outputs": [
    {
     "data": {
      "text/html": [
       "<div>\n",
       "<style scoped>\n",
       "    .dataframe tbody tr th:only-of-type {\n",
       "        vertical-align: middle;\n",
       "    }\n",
       "\n",
       "    .dataframe tbody tr th {\n",
       "        vertical-align: top;\n",
       "    }\n",
       "\n",
       "    .dataframe thead th {\n",
       "        text-align: right;\n",
       "    }\n",
       "</style>\n",
       "<table border=\"1\" class=\"dataframe\">\n",
       "  <thead>\n",
       "    <tr style=\"text-align: right;\">\n",
       "      <th></th>\n",
       "      <th>bbox_raw</th>\n",
       "      <th>bbox_pred</th>\n",
       "      <th>img_filename</th>\n",
       "      <th>expr</th>\n",
       "      <th>hits</th>\n",
       "      <th>spatial</th>\n",
       "      <th>ordinal</th>\n",
       "      <th>relational</th>\n",
       "      <th>intrinsic</th>\n",
       "    </tr>\n",
       "  </thead>\n",
       "  <tbody>\n",
       "    <tr>\n",
       "      <th>0</th>\n",
       "      <td>[156.0, 169.0, 224.0, 360.0]</td>\n",
       "      <td>[49.481747, 99.540726, 301.4215, 272.09885]</td>\n",
       "      <td>refer/data/images/saiapr_tc-12/10/images/10890.jpg</td>\n",
       "      <td>person on the left</td>\n",
       "      <td>0.0</td>\n",
       "      <td>1</td>\n",
       "      <td>0</td>\n",
       "      <td>0</td>\n",
       "      <td>0</td>\n",
       "    </tr>\n",
       "    <tr>\n",
       "      <th>1</th>\n",
       "      <td>[0.0, 94.0, 480.0, 360.0]</td>\n",
       "      <td>[62.72489, 94.11238, 340.92255, 246.16074]</td>\n",
       "      <td>refer/data/images/saiapr_tc-12/03/images/3593.jpg</td>\n",
       "      <td>the trees</td>\n",
       "      <td>0.0</td>\n",
       "      <td>0</td>\n",
       "      <td>0</td>\n",
       "      <td>0</td>\n",
       "      <td>1</td>\n",
       "    </tr>\n",
       "    <tr>\n",
       "      <th>2</th>\n",
       "      <td>[110.0, 64.0, 296.0, 183.0]</td>\n",
       "      <td>[65.14025, 65.82784, 359.55045, 232.00388]</td>\n",
       "      <td>refer/data/images/saiapr_tc-12/03/images/3593.jpg</td>\n",
       "      <td>sky next to clouds</td>\n",
       "      <td>0.0</td>\n",
       "      <td>1</td>\n",
       "      <td>0</td>\n",
       "      <td>1</td>\n",
       "      <td>0</td>\n",
       "    </tr>\n",
       "    <tr>\n",
       "      <th>3</th>\n",
       "      <td>[201.0, 49.0, 331.0, 184.0]</td>\n",
       "      <td>[60.592358, 81.93651, 333.8043, 234.55069]</td>\n",
       "      <td>refer/data/images/saiapr_tc-12/03/images/3593.jpg</td>\n",
       "      <td>clouds</td>\n",
       "      <td>0.0</td>\n",
       "      <td>0</td>\n",
       "      <td>0</td>\n",
       "      <td>0</td>\n",
       "      <td>1</td>\n",
       "    </tr>\n",
       "    <tr>\n",
       "      <th>4</th>\n",
       "      <td>[176.0, 56.0, 478.0, 195.0]</td>\n",
       "      <td>[64.9345, 103.80368, 327.54202, 251.31976]</td>\n",
       "      <td>refer/data/images/saiapr_tc-12/03/images/3593.jpg</td>\n",
       "      <td>mountain</td>\n",
       "      <td>0.0</td>\n",
       "      <td>0</td>\n",
       "      <td>0</td>\n",
       "      <td>0</td>\n",
       "      <td>1</td>\n",
       "    </tr>\n",
       "  </tbody>\n",
       "</table>\n",
       "</div>"
      ],
      "text/plain": [
       "                       bbox_raw                                    bbox_pred  \\\n",
       "0  [156.0, 169.0, 224.0, 360.0]  [49.481747, 99.540726, 301.4215, 272.09885]   \n",
       "1     [0.0, 94.0, 480.0, 360.0]   [62.72489, 94.11238, 340.92255, 246.16074]   \n",
       "2   [110.0, 64.0, 296.0, 183.0]   [65.14025, 65.82784, 359.55045, 232.00388]   \n",
       "3   [201.0, 49.0, 331.0, 184.0]   [60.592358, 81.93651, 333.8043, 234.55069]   \n",
       "4   [176.0, 56.0, 478.0, 195.0]   [64.9345, 103.80368, 327.54202, 251.31976]   \n",
       "\n",
       "                                         img_filename                expr  \\\n",
       "0  refer/data/images/saiapr_tc-12/10/images/10890.jpg  person on the left   \n",
       "1   refer/data/images/saiapr_tc-12/03/images/3593.jpg           the trees   \n",
       "2   refer/data/images/saiapr_tc-12/03/images/3593.jpg  sky next to clouds   \n",
       "3   refer/data/images/saiapr_tc-12/03/images/3593.jpg              clouds   \n",
       "4   refer/data/images/saiapr_tc-12/03/images/3593.jpg            mountain   \n",
       "\n",
       "   hits  spatial  ordinal  relational  intrinsic  \n",
       "0   0.0        1        0           0          0  \n",
       "1   0.0        0        0           0          1  \n",
       "2   0.0        1        0           1          0  \n",
       "3   0.0        0        0           0          1  \n",
       "4   0.0        0        0           0          1  "
      ]
     },
     "execution_count": 6,
     "metadata": {},
     "output_type": "execute_result"
    }
   ],
   "source": [
    "df_valid_results.head()"
   ]
  },
  {
   "cell_type": "code",
   "execution_count": 7,
   "metadata": {},
   "outputs": [
    {
     "data": {
      "text/plain": [
       "(6333, 9)"
      ]
     },
     "execution_count": 7,
     "metadata": {},
     "output_type": "execute_result"
    }
   ],
   "source": [
    "df_valid_results.shape"
   ]
  },
  {
   "cell_type": "code",
   "execution_count": 8,
   "metadata": {},
   "outputs": [],
   "source": [
    "df_valid_results_exp003 = pd.read_parquet(\"../models/exp_003/predictions_val.parquet\")"
   ]
  },
  {
   "cell_type": "code",
   "execution_count": 9,
   "metadata": {},
   "outputs": [
    {
     "data": {
      "text/html": [
       "<div>\n",
       "<style scoped>\n",
       "    .dataframe tbody tr th:only-of-type {\n",
       "        vertical-align: middle;\n",
       "    }\n",
       "\n",
       "    .dataframe tbody tr th {\n",
       "        vertical-align: top;\n",
       "    }\n",
       "\n",
       "    .dataframe thead th {\n",
       "        text-align: right;\n",
       "    }\n",
       "</style>\n",
       "<table border=\"1\" class=\"dataframe\">\n",
       "  <thead>\n",
       "    <tr style=\"text-align: right;\">\n",
       "      <th></th>\n",
       "      <th>bbox_raw</th>\n",
       "      <th>bbox_pred</th>\n",
       "      <th>img_filename</th>\n",
       "      <th>expr</th>\n",
       "      <th>hits</th>\n",
       "      <th>spatial</th>\n",
       "      <th>ordinal</th>\n",
       "      <th>relational</th>\n",
       "      <th>intrinsic</th>\n",
       "    </tr>\n",
       "  </thead>\n",
       "  <tbody>\n",
       "    <tr>\n",
       "      <th>0</th>\n",
       "      <td>[156.0, 169.0, 224.0, 360.0]</td>\n",
       "      <td>[150.1989, 168.85612, 214.18504, 359.0]</td>\n",
       "      <td>refer/data/images/saiapr_tc-12/10/images/10890.jpg</td>\n",
       "      <td>person on the left</td>\n",
       "      <td>1.0</td>\n",
       "      <td>1</td>\n",
       "      <td>0</td>\n",
       "      <td>0</td>\n",
       "      <td>0</td>\n",
       "    </tr>\n",
       "    <tr>\n",
       "      <th>1</th>\n",
       "      <td>[0.0, 94.0, 480.0, 360.0]</td>\n",
       "      <td>[6.03527, 42.10663, 479.0, 359.0]</td>\n",
       "      <td>refer/data/images/saiapr_tc-12/03/images/3593.jpg</td>\n",
       "      <td>the trees</td>\n",
       "      <td>1.0</td>\n",
       "      <td>0</td>\n",
       "      <td>0</td>\n",
       "      <td>0</td>\n",
       "      <td>1</td>\n",
       "    </tr>\n",
       "    <tr>\n",
       "      <th>2</th>\n",
       "      <td>[110.0, 64.0, 296.0, 183.0]</td>\n",
       "      <td>[84.89125, 41.48004, 285.32928, 176.66406]</td>\n",
       "      <td>refer/data/images/saiapr_tc-12/03/images/3593.jpg</td>\n",
       "      <td>sky next to clouds</td>\n",
       "      <td>1.0</td>\n",
       "      <td>1</td>\n",
       "      <td>0</td>\n",
       "      <td>1</td>\n",
       "      <td>0</td>\n",
       "    </tr>\n",
       "    <tr>\n",
       "      <th>3</th>\n",
       "      <td>[201.0, 49.0, 331.0, 184.0]</td>\n",
       "      <td>[183.9086, 85.440216, 307.06946, 178.0696]</td>\n",
       "      <td>refer/data/images/saiapr_tc-12/03/images/3593.jpg</td>\n",
       "      <td>clouds</td>\n",
       "      <td>1.0</td>\n",
       "      <td>0</td>\n",
       "      <td>0</td>\n",
       "      <td>0</td>\n",
       "      <td>1</td>\n",
       "    </tr>\n",
       "    <tr>\n",
       "      <th>4</th>\n",
       "      <td>[176.0, 56.0, 478.0, 195.0]</td>\n",
       "      <td>[0.74645513, 0.0, 479.0, 359.0]</td>\n",
       "      <td>refer/data/images/saiapr_tc-12/03/images/3593.jpg</td>\n",
       "      <td>mountain</td>\n",
       "      <td>0.0</td>\n",
       "      <td>0</td>\n",
       "      <td>0</td>\n",
       "      <td>0</td>\n",
       "      <td>1</td>\n",
       "    </tr>\n",
       "  </tbody>\n",
       "</table>\n",
       "</div>"
      ],
      "text/plain": [
       "                       bbox_raw                                   bbox_pred  \\\n",
       "0  [156.0, 169.0, 224.0, 360.0]     [150.1989, 168.85612, 214.18504, 359.0]   \n",
       "1     [0.0, 94.0, 480.0, 360.0]           [6.03527, 42.10663, 479.0, 359.0]   \n",
       "2   [110.0, 64.0, 296.0, 183.0]  [84.89125, 41.48004, 285.32928, 176.66406]   \n",
       "3   [201.0, 49.0, 331.0, 184.0]  [183.9086, 85.440216, 307.06946, 178.0696]   \n",
       "4   [176.0, 56.0, 478.0, 195.0]             [0.74645513, 0.0, 479.0, 359.0]   \n",
       "\n",
       "                                         img_filename                expr  \\\n",
       "0  refer/data/images/saiapr_tc-12/10/images/10890.jpg  person on the left   \n",
       "1   refer/data/images/saiapr_tc-12/03/images/3593.jpg           the trees   \n",
       "2   refer/data/images/saiapr_tc-12/03/images/3593.jpg  sky next to clouds   \n",
       "3   refer/data/images/saiapr_tc-12/03/images/3593.jpg              clouds   \n",
       "4   refer/data/images/saiapr_tc-12/03/images/3593.jpg            mountain   \n",
       "\n",
       "   hits  spatial  ordinal  relational  intrinsic  \n",
       "0   1.0        1        0           0          0  \n",
       "1   1.0        0        0           0          1  \n",
       "2   1.0        1        0           1          0  \n",
       "3   1.0        0        0           0          1  \n",
       "4   0.0        0        0           0          1  "
      ]
     },
     "execution_count": 9,
     "metadata": {},
     "output_type": "execute_result"
    }
   ],
   "source": [
    "df_valid_results_exp003.head()"
   ]
  },
  {
   "attachments": {},
   "cell_type": "markdown",
   "metadata": {},
   "source": [
    "Merge both exp_004 results and exp_003 predictions."
   ]
  },
  {
   "cell_type": "code",
   "execution_count": 10,
   "metadata": {},
   "outputs": [],
   "source": [
    "df_valid_results = df_valid_results.join(df_valid_results_exp003.loc[:, [\"bbox_pred\"]], rsuffix='_exp003')"
   ]
  },
  {
   "cell_type": "code",
   "execution_count": 11,
   "metadata": {},
   "outputs": [
    {
     "data": {
      "text/html": [
       "<div>\n",
       "<style scoped>\n",
       "    .dataframe tbody tr th:only-of-type {\n",
       "        vertical-align: middle;\n",
       "    }\n",
       "\n",
       "    .dataframe tbody tr th {\n",
       "        vertical-align: top;\n",
       "    }\n",
       "\n",
       "    .dataframe thead th {\n",
       "        text-align: right;\n",
       "    }\n",
       "</style>\n",
       "<table border=\"1\" class=\"dataframe\">\n",
       "  <thead>\n",
       "    <tr style=\"text-align: right;\">\n",
       "      <th></th>\n",
       "      <th>bbox_raw</th>\n",
       "      <th>bbox_pred</th>\n",
       "      <th>img_filename</th>\n",
       "      <th>expr</th>\n",
       "      <th>hits</th>\n",
       "      <th>spatial</th>\n",
       "      <th>ordinal</th>\n",
       "      <th>relational</th>\n",
       "      <th>intrinsic</th>\n",
       "      <th>bbox_pred_exp003</th>\n",
       "    </tr>\n",
       "  </thead>\n",
       "  <tbody>\n",
       "    <tr>\n",
       "      <th>0</th>\n",
       "      <td>[156.0, 169.0, 224.0, 360.0]</td>\n",
       "      <td>[49.481747, 99.540726, 301.4215, 272.09885]</td>\n",
       "      <td>refer/data/images/saiapr_tc-12/10/images/10890.jpg</td>\n",
       "      <td>person on the left</td>\n",
       "      <td>0.0</td>\n",
       "      <td>1</td>\n",
       "      <td>0</td>\n",
       "      <td>0</td>\n",
       "      <td>0</td>\n",
       "      <td>[150.1989, 168.85612, 214.18504, 359.0]</td>\n",
       "    </tr>\n",
       "    <tr>\n",
       "      <th>1</th>\n",
       "      <td>[0.0, 94.0, 480.0, 360.0]</td>\n",
       "      <td>[62.72489, 94.11238, 340.92255, 246.16074]</td>\n",
       "      <td>refer/data/images/saiapr_tc-12/03/images/3593.jpg</td>\n",
       "      <td>the trees</td>\n",
       "      <td>0.0</td>\n",
       "      <td>0</td>\n",
       "      <td>0</td>\n",
       "      <td>0</td>\n",
       "      <td>1</td>\n",
       "      <td>[6.03527, 42.10663, 479.0, 359.0]</td>\n",
       "    </tr>\n",
       "    <tr>\n",
       "      <th>2</th>\n",
       "      <td>[110.0, 64.0, 296.0, 183.0]</td>\n",
       "      <td>[65.14025, 65.82784, 359.55045, 232.00388]</td>\n",
       "      <td>refer/data/images/saiapr_tc-12/03/images/3593.jpg</td>\n",
       "      <td>sky next to clouds</td>\n",
       "      <td>0.0</td>\n",
       "      <td>1</td>\n",
       "      <td>0</td>\n",
       "      <td>1</td>\n",
       "      <td>0</td>\n",
       "      <td>[84.89125, 41.48004, 285.32928, 176.66406]</td>\n",
       "    </tr>\n",
       "    <tr>\n",
       "      <th>3</th>\n",
       "      <td>[201.0, 49.0, 331.0, 184.0]</td>\n",
       "      <td>[60.592358, 81.93651, 333.8043, 234.55069]</td>\n",
       "      <td>refer/data/images/saiapr_tc-12/03/images/3593.jpg</td>\n",
       "      <td>clouds</td>\n",
       "      <td>0.0</td>\n",
       "      <td>0</td>\n",
       "      <td>0</td>\n",
       "      <td>0</td>\n",
       "      <td>1</td>\n",
       "      <td>[183.9086, 85.440216, 307.06946, 178.0696]</td>\n",
       "    </tr>\n",
       "    <tr>\n",
       "      <th>4</th>\n",
       "      <td>[176.0, 56.0, 478.0, 195.0]</td>\n",
       "      <td>[64.9345, 103.80368, 327.54202, 251.31976]</td>\n",
       "      <td>refer/data/images/saiapr_tc-12/03/images/3593.jpg</td>\n",
       "      <td>mountain</td>\n",
       "      <td>0.0</td>\n",
       "      <td>0</td>\n",
       "      <td>0</td>\n",
       "      <td>0</td>\n",
       "      <td>1</td>\n",
       "      <td>[0.74645513, 0.0, 479.0, 359.0]</td>\n",
       "    </tr>\n",
       "  </tbody>\n",
       "</table>\n",
       "</div>"
      ],
      "text/plain": [
       "                       bbox_raw                                    bbox_pred  \\\n",
       "0  [156.0, 169.0, 224.0, 360.0]  [49.481747, 99.540726, 301.4215, 272.09885]   \n",
       "1     [0.0, 94.0, 480.0, 360.0]   [62.72489, 94.11238, 340.92255, 246.16074]   \n",
       "2   [110.0, 64.0, 296.0, 183.0]   [65.14025, 65.82784, 359.55045, 232.00388]   \n",
       "3   [201.0, 49.0, 331.0, 184.0]   [60.592358, 81.93651, 333.8043, 234.55069]   \n",
       "4   [176.0, 56.0, 478.0, 195.0]   [64.9345, 103.80368, 327.54202, 251.31976]   \n",
       "\n",
       "                                         img_filename                expr  \\\n",
       "0  refer/data/images/saiapr_tc-12/10/images/10890.jpg  person on the left   \n",
       "1   refer/data/images/saiapr_tc-12/03/images/3593.jpg           the trees   \n",
       "2   refer/data/images/saiapr_tc-12/03/images/3593.jpg  sky next to clouds   \n",
       "3   refer/data/images/saiapr_tc-12/03/images/3593.jpg              clouds   \n",
       "4   refer/data/images/saiapr_tc-12/03/images/3593.jpg            mountain   \n",
       "\n",
       "   hits  spatial  ordinal  relational  intrinsic  \\\n",
       "0   0.0        1        0           0          0   \n",
       "1   0.0        0        0           0          1   \n",
       "2   0.0        1        0           1          0   \n",
       "3   0.0        0        0           0          1   \n",
       "4   0.0        0        0           0          1   \n",
       "\n",
       "                             bbox_pred_exp003  \n",
       "0     [150.1989, 168.85612, 214.18504, 359.0]  \n",
       "1           [6.03527, 42.10663, 479.0, 359.0]  \n",
       "2  [84.89125, 41.48004, 285.32928, 176.66406]  \n",
       "3  [183.9086, 85.440216, 307.06946, 178.0696]  \n",
       "4             [0.74645513, 0.0, 479.0, 359.0]  "
      ]
     },
     "execution_count": 11,
     "metadata": {},
     "output_type": "execute_result"
    }
   ],
   "source": [
    "df_valid_results.head()"
   ]
  },
  {
   "attachments": {},
   "cell_type": "markdown",
   "metadata": {},
   "source": [
    "Add pure spatial definition columns:"
   ]
  },
  {
   "cell_type": "code",
   "execution_count": 12,
   "metadata": {},
   "outputs": [],
   "source": [
    "df_valid_results = add_pure_spatial(df_valid_results)"
   ]
  },
  {
   "cell_type": "code",
   "execution_count": 13,
   "metadata": {},
   "outputs": [
    {
     "data": {
      "text/html": [
       "<div>\n",
       "<style scoped>\n",
       "    .dataframe tbody tr th:only-of-type {\n",
       "        vertical-align: middle;\n",
       "    }\n",
       "\n",
       "    .dataframe tbody tr th {\n",
       "        vertical-align: top;\n",
       "    }\n",
       "\n",
       "    .dataframe thead th {\n",
       "        text-align: right;\n",
       "    }\n",
       "</style>\n",
       "<table border=\"1\" class=\"dataframe\">\n",
       "  <thead>\n",
       "    <tr style=\"text-align: right;\">\n",
       "      <th></th>\n",
       "      <th>expr</th>\n",
       "      <th>spatial_pure_r</th>\n",
       "      <th>spatial_pure_l</th>\n",
       "    </tr>\n",
       "  </thead>\n",
       "  <tbody>\n",
       "    <tr>\n",
       "      <th>980</th>\n",
       "      <td>part of bright white table middle left</td>\n",
       "      <td>True</td>\n",
       "      <td>True</td>\n",
       "    </tr>\n",
       "    <tr>\n",
       "      <th>1412</th>\n",
       "      <td>top left corner there are two lights , not the ones to the right in the corner</td>\n",
       "      <td>True</td>\n",
       "      <td>True</td>\n",
       "    </tr>\n",
       "    <tr>\n",
       "      <th>4386</th>\n",
       "      <td>i said left ! bottom right corner</td>\n",
       "      <td>True</td>\n",
       "      <td>True</td>\n",
       "    </tr>\n",
       "    <tr>\n",
       "      <th>4753</th>\n",
       "      <td>bright cliff in top left</td>\n",
       "      <td>True</td>\n",
       "      <td>True</td>\n",
       "    </tr>\n",
       "    <tr>\n",
       "      <th>5490</th>\n",
       "      <td>row of 4 paintings on left ( to the left of the 4 on right</td>\n",
       "      <td>True</td>\n",
       "      <td>True</td>\n",
       "    </tr>\n",
       "    <tr>\n",
       "      <th>5667</th>\n",
       "      <td>sky right above building on left</td>\n",
       "      <td>True</td>\n",
       "      <td>True</td>\n",
       "    </tr>\n",
       "    <tr>\n",
       "      <th>6287</th>\n",
       "      <td>the bottom right corner to the left of light pole</td>\n",
       "      <td>True</td>\n",
       "      <td>True</td>\n",
       "    </tr>\n",
       "  </tbody>\n",
       "</table>\n",
       "</div>"
      ],
      "text/plain": [
       "                                                                                expr  \\\n",
       "980                                           part of bright white table middle left   \n",
       "1412  top left corner there are two lights , not the ones to the right in the corner   \n",
       "4386                                               i said left ! bottom right corner   \n",
       "4753                                                        bright cliff in top left   \n",
       "5490                      row of 4 paintings on left ( to the left of the 4 on right   \n",
       "5667                                                sky right above building on left   \n",
       "6287                               the bottom right corner to the left of light pole   \n",
       "\n",
       "     spatial_pure_r spatial_pure_l  \n",
       "980            True           True  \n",
       "1412           True           True  \n",
       "4386           True           True  \n",
       "4753           True           True  \n",
       "5490           True           True  \n",
       "5667           True           True  \n",
       "6287           True           True  "
      ]
     },
     "execution_count": 13,
     "metadata": {},
     "output_type": "execute_result"
    }
   ],
   "source": [
    "df_valid_results.query(\"(spatial_pure_r == True) and spatial_pure_l == True\").loc[:, [\"expr\", \"spatial_pure_r\", \"spatial_pure_l\"]]"
   ]
  },
  {
   "cell_type": "code",
   "execution_count": 14,
   "metadata": {},
   "outputs": [],
   "source": [
    "ambiguous_idx = df_valid_results.query(\"(spatial_pure_r == True) and spatial_pure_l == True\").index"
   ]
  },
  {
   "cell_type": "code",
   "execution_count": 15,
   "metadata": {},
   "outputs": [],
   "source": [
    "df_valid_results = df_valid_results.drop(ambiguous_idx).reset_index(drop=True)"
   ]
  },
  {
   "cell_type": "code",
   "execution_count": 16,
   "metadata": {},
   "outputs": [
    {
     "data": {
      "text/plain": [
       "False    5437\n",
       "True      889\n",
       "Name: spatial_pure_l, dtype: int64"
      ]
     },
     "execution_count": 16,
     "metadata": {},
     "output_type": "execute_result"
    }
   ],
   "source": [
    "df_valid_results.spatial_pure_l.value_counts()"
   ]
  },
  {
   "cell_type": "code",
   "execution_count": 17,
   "metadata": {},
   "outputs": [
    {
     "data": {
      "text/plain": [
       "False    5494\n",
       "True      832\n",
       "Name: spatial_pure_r, dtype: int64"
      ]
     },
     "execution_count": 17,
     "metadata": {},
     "output_type": "execute_result"
    }
   ],
   "source": [
    "df_valid_results.spatial_pure_r.value_counts()"
   ]
  },
  {
   "cell_type": "code",
   "execution_count": 18,
   "metadata": {},
   "outputs": [
    {
     "data": {
      "text/plain": [
       "0.0    811\n",
       "1.0     21\n",
       "Name: hits, dtype: int64"
      ]
     },
     "execution_count": 18,
     "metadata": {},
     "output_type": "execute_result"
    }
   ],
   "source": [
    "df_valid_results.query(\"spatial_pure_r == 1\").hits.value_counts()"
   ]
  },
  {
   "cell_type": "code",
   "execution_count": 19,
   "metadata": {},
   "outputs": [
    {
     "data": {
      "text/plain": [
       "0.0    876\n",
       "1.0     13\n",
       "Name: hits, dtype: int64"
      ]
     },
     "execution_count": 19,
     "metadata": {},
     "output_type": "execute_result"
    }
   ],
   "source": [
    "df_valid_results.query(\"spatial_pure_l == 1\").hits.value_counts()"
   ]
  },
  {
   "attachments": {},
   "cell_type": "markdown",
   "metadata": {},
   "source": [
    "Add normalized bboxes values:"
   ]
  },
  {
   "cell_type": "code",
   "execution_count": 20,
   "metadata": {},
   "outputs": [],
   "source": [
    "df_valid_results = add_normalized_bboxes(df_valid_results, \"bbox_pred\")\n",
    "df_valid_results = add_normalized_bboxes(df_valid_results, \"bbox_pred_exp003\")"
   ]
  },
  {
   "cell_type": "code",
   "execution_count": 21,
   "metadata": {},
   "outputs": [
    {
     "data": {
      "text/html": [
       "<div>\n",
       "<style scoped>\n",
       "    .dataframe tbody tr th:only-of-type {\n",
       "        vertical-align: middle;\n",
       "    }\n",
       "\n",
       "    .dataframe tbody tr th {\n",
       "        vertical-align: top;\n",
       "    }\n",
       "\n",
       "    .dataframe thead th {\n",
       "        text-align: right;\n",
       "    }\n",
       "</style>\n",
       "<table border=\"1\" class=\"dataframe\">\n",
       "  <thead>\n",
       "    <tr style=\"text-align: right;\">\n",
       "      <th></th>\n",
       "      <th>bbox_raw</th>\n",
       "      <th>bbox_pred</th>\n",
       "      <th>img_filename</th>\n",
       "      <th>expr</th>\n",
       "      <th>hits</th>\n",
       "      <th>spatial</th>\n",
       "      <th>ordinal</th>\n",
       "      <th>relational</th>\n",
       "      <th>intrinsic</th>\n",
       "      <th>bbox_pred_exp003</th>\n",
       "      <th>spatial_pure_r</th>\n",
       "      <th>spatial_pure_l</th>\n",
       "      <th>bbox_pred_norm</th>\n",
       "      <th>bbox_pred_exp003_norm</th>\n",
       "    </tr>\n",
       "  </thead>\n",
       "  <tbody>\n",
       "    <tr>\n",
       "      <th>0</th>\n",
       "      <td>[156.0, 169.0, 224.0, 360.0]</td>\n",
       "      <td>[49.481747, 99.540726, 301.4215, 272.09885]</td>\n",
       "      <td>refer/data/images/saiapr_tc-12/10/images/10890.jpg</td>\n",
       "      <td>person on the left</td>\n",
       "      <td>0.0</td>\n",
       "      <td>1</td>\n",
       "      <td>0</td>\n",
       "      <td>0</td>\n",
       "      <td>0</td>\n",
       "      <td>[150.1989, 168.85612, 214.18504, 359.0]</td>\n",
       "      <td>False</td>\n",
       "      <td>True</td>\n",
       "      <td>[51, 138, 313, 377]</td>\n",
       "      <td>[156, 234, 223, 498]</td>\n",
       "    </tr>\n",
       "    <tr>\n",
       "      <th>1</th>\n",
       "      <td>[0.0, 94.0, 480.0, 360.0]</td>\n",
       "      <td>[62.72489, 94.11238, 340.92255, 246.16074]</td>\n",
       "      <td>refer/data/images/saiapr_tc-12/03/images/3593.jpg</td>\n",
       "      <td>the trees</td>\n",
       "      <td>0.0</td>\n",
       "      <td>0</td>\n",
       "      <td>0</td>\n",
       "      <td>0</td>\n",
       "      <td>1</td>\n",
       "      <td>[6.03527, 42.10663, 479.0, 359.0]</td>\n",
       "      <td>False</td>\n",
       "      <td>False</td>\n",
       "      <td>[65, 130, 355, 341]</td>\n",
       "      <td>[6, 58, 498, 498]</td>\n",
       "    </tr>\n",
       "    <tr>\n",
       "      <th>2</th>\n",
       "      <td>[110.0, 64.0, 296.0, 183.0]</td>\n",
       "      <td>[65.14025, 65.82784, 359.55045, 232.00388]</td>\n",
       "      <td>refer/data/images/saiapr_tc-12/03/images/3593.jpg</td>\n",
       "      <td>sky next to clouds</td>\n",
       "      <td>0.0</td>\n",
       "      <td>1</td>\n",
       "      <td>0</td>\n",
       "      <td>1</td>\n",
       "      <td>0</td>\n",
       "      <td>[84.89125, 41.48004, 285.32928, 176.66406]</td>\n",
       "      <td>False</td>\n",
       "      <td>False</td>\n",
       "      <td>[67, 91, 374, 322]</td>\n",
       "      <td>[88, 57, 297, 245]</td>\n",
       "    </tr>\n",
       "    <tr>\n",
       "      <th>3</th>\n",
       "      <td>[201.0, 49.0, 331.0, 184.0]</td>\n",
       "      <td>[60.592358, 81.93651, 333.8043, 234.55069]</td>\n",
       "      <td>refer/data/images/saiapr_tc-12/03/images/3593.jpg</td>\n",
       "      <td>clouds</td>\n",
       "      <td>0.0</td>\n",
       "      <td>0</td>\n",
       "      <td>0</td>\n",
       "      <td>0</td>\n",
       "      <td>1</td>\n",
       "      <td>[183.9086, 85.440216, 307.06946, 178.0696]</td>\n",
       "      <td>False</td>\n",
       "      <td>False</td>\n",
       "      <td>[63, 113, 347, 325]</td>\n",
       "      <td>[191, 118, 319, 247]</td>\n",
       "    </tr>\n",
       "    <tr>\n",
       "      <th>4</th>\n",
       "      <td>[176.0, 56.0, 478.0, 195.0]</td>\n",
       "      <td>[64.9345, 103.80368, 327.54202, 251.31976]</td>\n",
       "      <td>refer/data/images/saiapr_tc-12/03/images/3593.jpg</td>\n",
       "      <td>mountain</td>\n",
       "      <td>0.0</td>\n",
       "      <td>0</td>\n",
       "      <td>0</td>\n",
       "      <td>0</td>\n",
       "      <td>1</td>\n",
       "      <td>[0.74645513, 0.0, 479.0, 359.0]</td>\n",
       "      <td>False</td>\n",
       "      <td>False</td>\n",
       "      <td>[67, 144, 341, 349]</td>\n",
       "      <td>[0, 0, 498, 498]</td>\n",
       "    </tr>\n",
       "  </tbody>\n",
       "</table>\n",
       "</div>"
      ],
      "text/plain": [
       "                       bbox_raw                                    bbox_pred  \\\n",
       "0  [156.0, 169.0, 224.0, 360.0]  [49.481747, 99.540726, 301.4215, 272.09885]   \n",
       "1     [0.0, 94.0, 480.0, 360.0]   [62.72489, 94.11238, 340.92255, 246.16074]   \n",
       "2   [110.0, 64.0, 296.0, 183.0]   [65.14025, 65.82784, 359.55045, 232.00388]   \n",
       "3   [201.0, 49.0, 331.0, 184.0]   [60.592358, 81.93651, 333.8043, 234.55069]   \n",
       "4   [176.0, 56.0, 478.0, 195.0]   [64.9345, 103.80368, 327.54202, 251.31976]   \n",
       "\n",
       "                                         img_filename                expr  \\\n",
       "0  refer/data/images/saiapr_tc-12/10/images/10890.jpg  person on the left   \n",
       "1   refer/data/images/saiapr_tc-12/03/images/3593.jpg           the trees   \n",
       "2   refer/data/images/saiapr_tc-12/03/images/3593.jpg  sky next to clouds   \n",
       "3   refer/data/images/saiapr_tc-12/03/images/3593.jpg              clouds   \n",
       "4   refer/data/images/saiapr_tc-12/03/images/3593.jpg            mountain   \n",
       "\n",
       "   hits  spatial  ordinal  relational  intrinsic  \\\n",
       "0   0.0        1        0           0          0   \n",
       "1   0.0        0        0           0          1   \n",
       "2   0.0        1        0           1          0   \n",
       "3   0.0        0        0           0          1   \n",
       "4   0.0        0        0           0          1   \n",
       "\n",
       "                             bbox_pred_exp003 spatial_pure_r spatial_pure_l  \\\n",
       "0     [150.1989, 168.85612, 214.18504, 359.0]          False           True   \n",
       "1           [6.03527, 42.10663, 479.0, 359.0]          False          False   \n",
       "2  [84.89125, 41.48004, 285.32928, 176.66406]          False          False   \n",
       "3  [183.9086, 85.440216, 307.06946, 178.0696]          False          False   \n",
       "4             [0.74645513, 0.0, 479.0, 359.0]          False          False   \n",
       "\n",
       "        bbox_pred_norm bbox_pred_exp003_norm  \n",
       "0  [51, 138, 313, 377]  [156, 234, 223, 498]  \n",
       "1  [65, 130, 355, 341]     [6, 58, 498, 498]  \n",
       "2   [67, 91, 374, 322]    [88, 57, 297, 245]  \n",
       "3  [63, 113, 347, 325]  [191, 118, 319, 247]  \n",
       "4  [67, 144, 341, 349]      [0, 0, 498, 498]  "
      ]
     },
     "execution_count": 21,
     "metadata": {},
     "output_type": "execute_result"
    }
   ],
   "source": [
    "df_valid_results.head()"
   ]
  },
  {
   "cell_type": "code",
   "execution_count": 22,
   "metadata": {},
   "outputs": [],
   "source": [
    "df_spatial_l = df_valid_results.query(\"spatial_pure_l == 1\")\n",
    "df_spatial_r = df_valid_results.query(\"spatial_pure_r == 1\")"
   ]
  },
  {
   "attachments": {},
   "cell_type": "markdown",
   "metadata": {},
   "source": [
    "#### Left study"
   ]
  },
  {
   "cell_type": "code",
   "execution_count": 37,
   "metadata": {},
   "outputs": [],
   "source": [
    "T = 0.5\n",
    "bbox_left_x1s = [250, 240, 230, 220, 210, 200, 190, 180, 170, 160, 150, 125, 100, 75, 50]"
   ]
  },
  {
   "cell_type": "code",
   "execution_count": 38,
   "metadata": {},
   "outputs": [
    {
     "data": {
      "text/plain": [
       "15"
      ]
     },
     "execution_count": 38,
     "metadata": {},
     "output_type": "execute_result"
    }
   ],
   "source": [
    "len(bbox_left_x1s)"
   ]
  },
  {
   "cell_type": "code",
   "execution_count": 39,
   "metadata": {},
   "outputs": [],
   "source": [
    "hits_ratios = []\n",
    "for bb_l_x1 in bbox_left_x1s:\n",
    "    hits_l = []\n",
    "    for _, row in df_spatial_l.loc[:, [\"bbox_pred_norm\"]].iterrows():\n",
    "        bb_tensor = torch.Tensor(row[\"bbox_pred_norm\"])\n",
    "        bbox_l = torch.Tensor([0.0, row[\"bbox_pred_norm\"][1], bb_l_x1, row[\"bbox_pred_norm\"][3]])\n",
    "        iou_ = box_iou(bb_tensor.reshape(-1, 4), bbox_l.reshape(-1, 4))\n",
    "        hits_l.append((iou_ > T).item())\n",
    "    hits_ratios.append((sum(hits_l) / len(hits_l)))"
   ]
  },
  {
   "cell_type": "code",
   "execution_count": 51,
   "metadata": {},
   "outputs": [
    {
     "data": {
      "image/png": "[encoded data removed]",
      "text/plain": [
       "<Figure size 1000x500 with 1 Axes>"
      ]
     },
     "metadata": {},
     "output_type": "display_data"
    }
   ],
   "source": [
    "fig, ax = plt.subplots(figsize=(10, 5))\n",
    "ax.set_title(\"% of hits (spatial left expr)\", size=15)\n",
    "ax.scatter(bbox_left_x1s, hits_ratios)\n",
    "for i, txt in enumerate(hits_ratios):\n",
    "    if txt > 0:\n",
    "        ax.annotate(f\"{txt*100:.1f}%\", (bbox_left_x1s[i] - 15, hits_ratios[i]))\n",
    "ax.set_xlabel(\"Ground truth bbox x1 coordinate\", size=15)\n",
    "ax.set_ylabel(f\"% of hits based on T={T}\", size=15)\n",
    "plt.show()"
   ]
  },
  {
   "attachments": {},
   "cell_type": "markdown",
   "metadata": {},
   "source": [
    "#### Right study"
   ]
  },
  {
   "cell_type": "code",
   "execution_count": 56,
   "metadata": {},
   "outputs": [],
   "source": [
    "T = 0.5\n",
    "bbox_r_x0s = [250, 260, 270, 280, 290, 300, 310, 320, 330, 340, 350, 375, 400, 425, 450]"
   ]
  },
  {
   "cell_type": "code",
   "execution_count": 57,
   "metadata": {},
   "outputs": [],
   "source": [
    "hits_ratios_r = []\n",
    "for bb_r_x0 in bbox_r_x0s:\n",
    "    hits_r = []\n",
    "    for _, row in df_spatial_r.loc[:, [\"bbox_pred_norm\"]].iterrows():\n",
    "        bb_tensor = torch.Tensor(row[\"bbox_pred_norm\"])\n",
    "        bbox_r = torch.Tensor([bb_r_x0, row[\"bbox_pred_norm\"][1], 500.0, row[\"bbox_pred_norm\"][3]])\n",
    "        iou_ = box_iou(bb_tensor.reshape(-1, 4), bbox_r.reshape(-1, 4))\n",
    "        hits_r.append((iou_ > T).item())\n",
    "    hits_ratios_r.append((sum(hits_r) / len(hits_r)))"
   ]
  },
  {
   "cell_type": "code",
   "execution_count": 58,
   "metadata": {},
   "outputs": [
    {
     "data": {
      "image/png": "[encoded data removed]",
      "text/plain": [
       "<Figure size 1000x500 with 1 Axes>"
      ]
     },
     "metadata": {},
     "output_type": "display_data"
    }
   ],
   "source": [
    "fig, ax = plt.subplots(figsize=(10, 5))\n",
    "ax.set_title(\"% of hits (spatial right expr)\", size=15)\n",
    "ax.scatter(bbox_r_x0s, hits_ratios_r)\n",
    "for i, txt in enumerate(hits_ratios_r):\n",
    "    if txt > 0:\n",
    "        ax.annotate(f\"{txt*100:.1f}%\", (bbox_r_x0s[i] + 10, hits_ratios_r[i]))\n",
    "ax.set_xlabel(\"Ground truth bbox x0 coordinate\", size=15)\n",
    "ax.set_ylabel(f\"% of hits based on T={T}\", size=15)\n",
    "plt.show()"
   ]
  },
  {
   "cell_type": "code",
   "execution_count": null,
   "metadata": {},
   "outputs": [],
   "source": []
  }
 ],
 "metadata": {
  "kernelspec": {
   "display_name": "rec-env",
   "language": "python",
   "name": "python3"
  },
  "language_info": {
   "codemirror_mode": {
    "name": "ipython",
    "version": 3
   },
   "file_extension": ".py",
   "mimetype": "text/x-python",
   "name": "python",
   "nbconvert_exporter": "python",
   "pygments_lexer": "ipython3",
   "version": "3.9.16"
  },
  "orig_nbformat": 4
 },
 "nbformat": 4,
 "nbformat_minor": 2
}
