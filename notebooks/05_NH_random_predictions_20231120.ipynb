{
 "cells": [
  {
   "attachments": {},
   "cell_type": "markdown",
   "metadata": {},
   "source": [
    "### 05 - Random predictions, 20231120\n",
    "\n",
    "In this notebook we generate random predictions over the validation set."
   ]
  },
  {
   "cell_type": "code",
   "execution_count": 2,
   "metadata": {},
   "outputs": [
    {
     "name": "stderr",
     "output_type": "stream",
     "text": [
      "/home/nhormann/miniconda3/envs/rec-env/lib/python3.9/site-packages/tqdm/auto.py:21: TqdmWarning: IProgress not found. Please update jupyter and ipywidgets. See https://ipywidgets.readthedocs.io/en/stable/user_install.html\n",
      "  from .autonotebook import tqdm as notebook_tqdm\n"
     ]
    }
   ],
   "source": [
    "import torch\n",
    "import pandas as pd\n",
    "import numpy as np\n",
    "\n",
    "from PIL import Image\n",
    "from tqdm import tqdm\n",
    "from torchvision.ops import box_iou\n",
    "\n",
    "pd.set_option('display.max_colwidth', None)\n",
    "pd.set_option('display.max_rows', 500)"
   ]
  },
  {
   "cell_type": "code",
   "execution_count": 3,
   "metadata": {},
   "outputs": [],
   "source": [
    "BASE_PATH = \"../code/rec/\""
   ]
  },
  {
   "cell_type": "code",
   "execution_count": 36,
   "metadata": {},
   "outputs": [],
   "source": [
    "def get_iou_column(df, bbox_pred_colname):\n",
    "    df.loc[:, \"bbox_raw\"] = df.bbox_raw.apply(lambda v: np.resize(v, (1, 4)))\n",
    "    df.loc[:, bbox_pred_colname] = df[bbox_pred_colname].apply(lambda v: np.resize(v, (1, 4)))\n",
    "    df.loc[:, \"iou\"] = df.apply(lambda row: box_iou(torch.from_numpy(row[bbox_pred_colname]),\n",
    "                                                    torch.from_numpy(row[\"bbox_raw\"])), axis=1)\n",
    "    df = df.astype({\"iou\": float})\n",
    "    return df\n",
    "\n",
    "\n",
    "def get_rec_counts(df_results, hits_col):\n",
    "    counts = {\n",
    "        hits_col: [],\n",
    "        \"counts\": [],\n",
    "        \"rec_cls\": []\n",
    "    }\n",
    "    for rec_cls in [\"spatial\", \"ordinal\", \"relational\", \"intrinsic\"]:\n",
    "        counts[\"rec_cls\"].append(rec_cls)\n",
    "        mask_rec_cls = (df_results[rec_cls] == 1)\n",
    "        counts[hits_col].append(df_results.loc[mask_rec_cls, hits_col].sum())\n",
    "        counts[\"counts\"].append(df_results.loc[mask_rec_cls, hits_col].shape[0])\n",
    "    df_c = pd.DataFrame().from_dict(counts)\n",
    "    df_c.loc[:, \"exp_number\"] = df_results.exp_number.unique()[0]\n",
    "    df_c.loc[:, \"exp_description\"] = df_results.exp_description.unique()[0]\n",
    "    df_c.loc[:, \"hits_perc\"] = round(df_c[hits_col] / df_c.counts * 100, 2)\n",
    "    return df_c\n",
    "\n",
    "\n",
    "def random_rectangle(width, height):\n",
    "    a = torch.rand(2)\n",
    "    x1 = a[0] * width\n",
    "    y1 = a[1] * height\n",
    "    b = torch.rand(2)\n",
    "    x2 = x1 + b[0] * width\n",
    "    y2 = y1 + b[1] * height\n",
    "    return [x1, y1, x2, y2]\n",
    "\n",
    "\n",
    "def generate_random_preds(df_results):\n",
    "    random_bboxes = {\"random_bbox\": []}\n",
    "    for _, row in df_results.loc[:, [\"bbox_raw\", \"bbox_pred\", \"img_filename\", \"expr\"]].iterrows():\n",
    "        im = Image.open(f\"{BASE_PATH}{row['img_filename']}\")\n",
    "        random_bboxes[\"random_bbox\"].append(np.array(random_rectangle(im.width, im.height)))\n",
    "    df_results = df_results.join(pd.DataFrame().from_dict(random_bboxes))\n",
    "    return df_results"
   ]
  },
  {
   "attachments": {},
   "cell_type": "markdown",
   "metadata": {},
   "source": [
    "### Read validation data from all available experiments results"
   ]
  },
  {
   "cell_type": "markdown",
   "metadata": {},
   "source": [
    "Following dict's explanation:\n",
    "\n",
    "\n",
    "exp_d:\n",
    "```\n",
    "key -> number of base experiment.\n",
    "\n",
    "values -> list of lists[\n",
    "    exp_number,\n",
    "    validation_predictions_path(str),\n",
    "    use_visual_pos_embeddings(boolean),\n",
    "    use_visual_embeddings(boolean)\n",
    "    ]\n",
    "```\n",
    "\n",
    "exp_descriptions:\n",
    "```\n",
    "key -> number of base experiment.\n",
    "values -> description of the experiment.\n",
    "```"
   ]
  },
  {
   "cell_type": "code",
   "execution_count": 5,
   "metadata": {},
   "outputs": [],
   "source": [
    "exp_d = {\n",
    "    \"exp_003\": [\n",
    "        [\"exp_003\", \"predictions_val.parquet\", True, True],\n",
    "    ],\n",
    "}\n",
    "exp_descriptions = {\n",
    "    \"exp_003\": \"Exp from the section 3.1 of the paper. But changing the predictions to random coordinates.\",\n",
    "}"
   ]
  },
  {
   "cell_type": "code",
   "execution_count": 46,
   "metadata": {},
   "outputs": [
    {
     "name": "stderr",
     "output_type": "stream",
     "text": [
      "  0%|          | 0/1000 [00:00<?, ?it/s]"
     ]
    },
    {
     "name": "stderr",
     "output_type": "stream",
     "text": [
      "100%|██████████| 1000/1000 [1:07:12<00:00,  4.03s/it]\n"
     ]
    }
   ],
   "source": [
    "df_metrics_lst_25 = []\n",
    "df_metrics_lst_50 = []\n",
    "for exp_base, lst_exps in exp_d.items():\n",
    "    exp_base_description = exp_descriptions[exp_base]\n",
    "    for exp_number, exp_filename, use_visual_pos_emb, use_visual_emb in lst_exps:\n",
    "        df_results = pd.read_parquet(f\"../models/{exp_number}/{exp_filename}\")\n",
    "        df_results.loc[:, \"exp_number\"] = exp_number\n",
    "        df_results.loc[:, \"exp_description\"] = exp_base_description\n",
    "        df_m_25_big = []\n",
    "        df_m_50_big = []\n",
    "        for i in tqdm(range(1000)):\n",
    "            df = generate_random_preds(df_results)\n",
    "            df = get_iou_column(df, bbox_pred_colname=\"random_bbox\")\n",
    "            df.loc[:, \"hits_25\"] = (df.iou > 0.25).astype(int)\n",
    "            df.loc[:, \"hits_50\"] = (df.iou > 0.50).astype(int)\n",
    "            df_m_25_big.append(get_rec_counts(df, \"hits_25\"))\n",
    "            df_m_50_big.append(get_rec_counts(df, \"hits_50\"))\n",
    "        df_m_25_big = pd.concat(df_m_25_big, ignore_index=True)\n",
    "        df_m_50_big = pd.concat(df_m_50_big, ignore_index=True)\n",
    "        df_m_25 = (\n",
    "            df_m_25_big\n",
    "            .groupby([\"counts\", \"rec_cls\", \"exp_number\", \"exp_description\"])\n",
    "            [\"hits_perc\"].agg([\"mean\", \"std\"])\n",
    "        ).reset_index().rename(columns={\"mean\": \"hits_perc_mean\", \"std\": \"hits_perc_std\"})\n",
    "        df_m_50 = (\n",
    "            df_m_50_big\n",
    "            .groupby([\"counts\", \"rec_cls\", \"exp_number\", \"exp_description\"])\n",
    "            [\"hits_perc\"].agg([\"mean\", \"std\"])\n",
    "        ).reset_index().rename(columns={\"mean\": \"hits_perc_mean\", \"std\": \"hits_perc_std\"}) \n",
    "        df_metrics_lst_25.append(df_m_25)\n",
    "        df_metrics_lst_50.append(df_m_50)\n",
    "df_metrics_val_25 = pd.concat(df_metrics_lst_25, ignore_index=True)\n",
    "df_metrics_val_50 = pd.concat(df_metrics_lst_50, ignore_index=True)"
   ]
  },
  {
   "cell_type": "code",
   "execution_count": 49,
   "metadata": {},
   "outputs": [
    {
     "data": {
      "text/html": [
       "<div>\n",
       "<style scoped>\n",
       "    .dataframe tbody tr th:only-of-type {\n",
       "        vertical-align: middle;\n",
       "    }\n",
       "\n",
       "    .dataframe tbody tr th {\n",
       "        vertical-align: top;\n",
       "    }\n",
       "\n",
       "    .dataframe thead th {\n",
       "        text-align: right;\n",
       "    }\n",
       "</style>\n",
       "<table border=\"1\" class=\"dataframe\">\n",
       "  <thead>\n",
       "    <tr style=\"text-align: right;\">\n",
       "      <th></th>\n",
       "      <th>counts</th>\n",
       "      <th>rec_cls</th>\n",
       "      <th>exp_number</th>\n",
       "      <th>exp_description</th>\n",
       "      <th>hits_perc_mean</th>\n",
       "      <th>hits_perc_std</th>\n",
       "    </tr>\n",
       "  </thead>\n",
       "  <tbody>\n",
       "    <tr>\n",
       "      <th>0</th>\n",
       "      <td>90</td>\n",
       "      <td>ordinal</td>\n",
       "      <td>exp_003</td>\n",
       "      <td>Exp from the section 3.1 of the paper. But changing the predictions to random coordinates.</td>\n",
       "      <td>2.21940</td>\n",
       "      <td>1.511348</td>\n",
       "    </tr>\n",
       "    <tr>\n",
       "      <th>1</th>\n",
       "      <td>1205</td>\n",
       "      <td>relational</td>\n",
       "      <td>exp_003</td>\n",
       "      <td>Exp from the section 3.1 of the paper. But changing the predictions to random coordinates.</td>\n",
       "      <td>3.44688</td>\n",
       "      <td>0.519874</td>\n",
       "    </tr>\n",
       "    <tr>\n",
       "      <th>2</th>\n",
       "      <td>2290</td>\n",
       "      <td>intrinsic</td>\n",
       "      <td>exp_003</td>\n",
       "      <td>Exp from the section 3.1 of the paper. But changing the predictions to random coordinates.</td>\n",
       "      <td>6.74542</td>\n",
       "      <td>0.517950</td>\n",
       "    </tr>\n",
       "    <tr>\n",
       "      <th>3</th>\n",
       "      <td>4028</td>\n",
       "      <td>spatial</td>\n",
       "      <td>exp_003</td>\n",
       "      <td>Exp from the section 3.1 of the paper. But changing the predictions to random coordinates.</td>\n",
       "      <td>4.43749</td>\n",
       "      <td>0.309767</td>\n",
       "    </tr>\n",
       "  </tbody>\n",
       "</table>\n",
       "</div>"
      ],
      "text/plain": [
       "   counts     rec_cls exp_number  \\\n",
       "0      90     ordinal    exp_003   \n",
       "1    1205  relational    exp_003   \n",
       "2    2290   intrinsic    exp_003   \n",
       "3    4028     spatial    exp_003   \n",
       "\n",
       "                                                                              exp_description  \\\n",
       "0  Exp from the section 3.1 of the paper. But changing the predictions to random coordinates.   \n",
       "1  Exp from the section 3.1 of the paper. But changing the predictions to random coordinates.   \n",
       "2  Exp from the section 3.1 of the paper. But changing the predictions to random coordinates.   \n",
       "3  Exp from the section 3.1 of the paper. But changing the predictions to random coordinates.   \n",
       "\n",
       "   hits_perc_mean  hits_perc_std  \n",
       "0         2.21940       1.511348  \n",
       "1         3.44688       0.519874  \n",
       "2         6.74542       0.517950  \n",
       "3         4.43749       0.309767  "
      ]
     },
     "execution_count": 49,
     "metadata": {},
     "output_type": "execute_result"
    }
   ],
   "source": [
    "df_metrics_val_25"
   ]
  },
  {
   "cell_type": "code",
   "execution_count": 50,
   "metadata": {},
   "outputs": [
    {
     "data": {
      "text/html": [
       "<div>\n",
       "<style scoped>\n",
       "    .dataframe tbody tr th:only-of-type {\n",
       "        vertical-align: middle;\n",
       "    }\n",
       "\n",
       "    .dataframe tbody tr th {\n",
       "        vertical-align: top;\n",
       "    }\n",
       "\n",
       "    .dataframe thead th {\n",
       "        text-align: right;\n",
       "    }\n",
       "</style>\n",
       "<table border=\"1\" class=\"dataframe\">\n",
       "  <thead>\n",
       "    <tr style=\"text-align: right;\">\n",
       "      <th></th>\n",
       "      <th>counts</th>\n",
       "      <th>rec_cls</th>\n",
       "      <th>exp_number</th>\n",
       "      <th>exp_description</th>\n",
       "      <th>hits_perc_mean</th>\n",
       "      <th>hits_perc_std</th>\n",
       "    </tr>\n",
       "  </thead>\n",
       "  <tbody>\n",
       "    <tr>\n",
       "      <th>0</th>\n",
       "      <td>90</td>\n",
       "      <td>ordinal</td>\n",
       "      <td>exp_003</td>\n",
       "      <td>Exp from the section 3.1 of the paper. But changing the predictions to random coordinates.</td>\n",
       "      <td>0.15873</td>\n",
       "      <td>0.416349</td>\n",
       "    </tr>\n",
       "    <tr>\n",
       "      <th>1</th>\n",
       "      <td>1205</td>\n",
       "      <td>relational</td>\n",
       "      <td>exp_003</td>\n",
       "      <td>Exp from the section 3.1 of the paper. But changing the predictions to random coordinates.</td>\n",
       "      <td>0.30814</td>\n",
       "      <td>0.153587</td>\n",
       "    </tr>\n",
       "    <tr>\n",
       "      <th>2</th>\n",
       "      <td>2290</td>\n",
       "      <td>intrinsic</td>\n",
       "      <td>exp_003</td>\n",
       "      <td>Exp from the section 3.1 of the paper. But changing the predictions to random coordinates.</td>\n",
       "      <td>0.74740</td>\n",
       "      <td>0.181895</td>\n",
       "    </tr>\n",
       "    <tr>\n",
       "      <th>3</th>\n",
       "      <td>4028</td>\n",
       "      <td>spatial</td>\n",
       "      <td>exp_003</td>\n",
       "      <td>Exp from the section 3.1 of the paper. But changing the predictions to random coordinates.</td>\n",
       "      <td>0.40384</td>\n",
       "      <td>0.096147</td>\n",
       "    </tr>\n",
       "  </tbody>\n",
       "</table>\n",
       "</div>"
      ],
      "text/plain": [
       "   counts     rec_cls exp_number  \\\n",
       "0      90     ordinal    exp_003   \n",
       "1    1205  relational    exp_003   \n",
       "2    2290   intrinsic    exp_003   \n",
       "3    4028     spatial    exp_003   \n",
       "\n",
       "                                                                              exp_description  \\\n",
       "0  Exp from the section 3.1 of the paper. But changing the predictions to random coordinates.   \n",
       "1  Exp from the section 3.1 of the paper. But changing the predictions to random coordinates.   \n",
       "2  Exp from the section 3.1 of the paper. But changing the predictions to random coordinates.   \n",
       "3  Exp from the section 3.1 of the paper. But changing the predictions to random coordinates.   \n",
       "\n",
       "   hits_perc_mean  hits_perc_std  \n",
       "0         0.15873       0.416349  \n",
       "1         0.30814       0.153587  \n",
       "2         0.74740       0.181895  \n",
       "3         0.40384       0.096147  "
      ]
     },
     "execution_count": 50,
     "metadata": {},
     "output_type": "execute_result"
    }
   ],
   "source": [
    "df_metrics_val_50"
   ]
  },
  {
   "cell_type": "code",
   "execution_count": null,
   "metadata": {},
   "outputs": [],
   "source": []
  }
 ],
 "metadata": {
  "kernelspec": {
   "display_name": "rec-env",
   "language": "python",
   "name": "python3"
  },
  "language_info": {
   "codemirror_mode": {
    "name": "ipython",
    "version": 3
   },
   "file_extension": ".py",
   "mimetype": "text/x-python",
   "name": "python",
   "nbconvert_exporter": "python",
   "pygments_lexer": "ipython3",
   "version": "3.9.17"
  },
  "orig_nbformat": 4
 },
 "nbformat": 4,
 "nbformat_minor": 2
}
