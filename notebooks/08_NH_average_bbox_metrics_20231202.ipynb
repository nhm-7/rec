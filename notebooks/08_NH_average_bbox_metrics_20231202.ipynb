{
 "cells": [
  {
   "attachments": {},
   "cell_type": "markdown",
   "metadata": {},
   "source": [
    "### 08 - Center bias predictions, 20231202\n",
    "\n",
    "In this notebook we will generate validation metrics using the average bbox defined in the 07 notebook."
   ]
  },
  {
   "cell_type": "code",
   "execution_count": 1,
   "metadata": {},
   "outputs": [
    {
     "name": "stderr",
     "output_type": "stream",
     "text": [
      "/home/nhormann/miniconda3/envs/rec-env/lib/python3.9/site-packages/tqdm/auto.py:21: TqdmWarning: IProgress not found. Please update jupyter and ipywidgets. See https://ipywidgets.readthedocs.io/en/stable/user_install.html\n",
      "  from .autonotebook import tqdm as notebook_tqdm\n"
     ]
    }
   ],
   "source": [
    "import torch\n",
    "import pandas as pd\n",
    "import numpy as np\n",
    "\n",
    "from PIL import Image\n",
    "from tqdm import tqdm\n",
    "from torchvision.ops import box_iou\n",
    "\n",
    "pd.set_option('display.max_colwidth', None)\n",
    "pd.set_option('display.max_rows', 500)"
   ]
  },
  {
   "cell_type": "code",
   "execution_count": 2,
   "metadata": {},
   "outputs": [],
   "source": [
    "BASE_PATH = \"../code/rec/\""
   ]
  },
  {
   "cell_type": "code",
   "execution_count": 41,
   "metadata": {},
   "outputs": [],
   "source": [
    "def get_iou_column(df, bbox_pred_colname):\n",
    "    df.loc[:, \"bbox_raw\"] = df.bbox_raw.apply(lambda v: np.resize(v, (1, 4)))\n",
    "    df.loc[:, bbox_pred_colname] = df[bbox_pred_colname].apply(lambda v: np.resize(v, (1, 4)))\n",
    "    df.loc[:, \"iou\"] = df.apply(lambda row: box_iou(torch.from_numpy(row[bbox_pred_colname]),\n",
    "                                                    torch.from_numpy(row[\"bbox_raw\"])), axis=1)\n",
    "    df = df.astype({\"iou\": float})\n",
    "    return df\n",
    "\n",
    "\n",
    "def get_rec_counts(df_results, hits_col):\n",
    "    counts = {\n",
    "        hits_col: [],\n",
    "        \"counts\": [],\n",
    "        \"rec_cls\": []\n",
    "    }\n",
    "    for rec_cls in [\"spatial\", \"ordinal\", \"relational\", \"intrinsic\"]:\n",
    "        counts[\"rec_cls\"].append(rec_cls)\n",
    "        mask_rec_cls = (df_results[rec_cls] == 1)\n",
    "        counts[hits_col].append(df_results.loc[mask_rec_cls, hits_col].sum())\n",
    "        counts[\"counts\"].append(df_results.loc[mask_rec_cls, hits_col].shape[0])\n",
    "    df_c = pd.DataFrame().from_dict(counts)\n",
    "    df_c.loc[:, \"exp_number\"] = df_results.exp_number.unique()[0]\n",
    "    df_c.loc[:, \"exp_description\"] = df_results.exp_description.unique()[0]\n",
    "    df_c.loc[:, \"hits_perc\"] = round(df_c[hits_col] / df_c.counts * 100, 2)\n",
    "    return df_c"
   ]
  },
  {
   "attachments": {},
   "cell_type": "markdown",
   "metadata": {},
   "source": [
    "### Read validation data from all available experiments results"
   ]
  },
  {
   "cell_type": "markdown",
   "metadata": {},
   "source": [
    "Following dict's explanation:\n",
    "\n",
    "\n",
    "exp_d:\n",
    "```\n",
    "key -> number of base experiment.\n",
    "\n",
    "values -> list of lists[\n",
    "    exp_number,\n",
    "    validation_predictions_path(str),\n",
    "    use_visual_pos_embeddings(boolean),\n",
    "    use_visual_embeddings(boolean)\n",
    "    ]\n",
    "```\n",
    "\n",
    "exp_descriptions:\n",
    "```\n",
    "key -> number of base experiment.\n",
    "values -> description of the experiment.\n",
    "```"
   ]
  },
  {
   "cell_type": "code",
   "execution_count": 45,
   "metadata": {},
   "outputs": [],
   "source": [
    "exp_d = {\n",
    "    \"exp_003\": [\n",
    "        [\"exp_003\", \"predictions_val.parquet\", True, True],\n",
    "    ],\n",
    "}\n",
    "exp_descriptions = {\n",
    "    \"exp_003\": \"Exp from the section 3.1 of the paper. But using an average bbox to compute the metrics.\",\n",
    "}"
   ]
  },
  {
   "cell_type": "code",
   "execution_count": 46,
   "metadata": {},
   "outputs": [],
   "source": [
    "df_metrics_lst_25 = []\n",
    "df_metrics_lst_50 = []\n",
    "for exp_base, lst_exps in exp_d.items():\n",
    "    exp_base_description = exp_descriptions[exp_base]\n",
    "    for exp_number, exp_filename, use_visual_pos_emb, use_visual_emb in lst_exps:\n",
    "        df_results = pd.read_parquet(f\"../models/{exp_number}/{exp_filename}\")\n",
    "        df_results.loc[:, \"exp_number\"] = exp_number\n",
    "        df_results.loc[:, \"exp_description\"] = exp_base_description\n",
    "        df_results.loc[:, \"avg_bbox\"] = [[101.2846, 123.4821, 342.1320, 280.2839]] * df_results.shape[0] # coordinates defined in 07_NH\n",
    "        df_results = get_iou_column(df_results, bbox_pred_colname=\"avg_bbox\")\n",
    "        df_results.loc[:, \"hits_25\"] = (df_results.iou > 0.25).astype(int)\n",
    "        df_results.loc[:, \"hits_50\"] = (df_results.iou > 0.50).astype(int)\n",
    "        df_m_25 = get_rec_counts(df_results, \"hits_25\")\n",
    "        df_m_50 = get_rec_counts(df_results, \"hits_50\")\n",
    "        df_metrics_lst_25.append(df_m_25)\n",
    "        df_metrics_lst_50.append(df_m_50)\n",
    "df_metrics_val_25 = pd.concat(df_metrics_lst_25, ignore_index=True)\n",
    "df_metrics_val_50 = pd.concat(df_metrics_lst_50, ignore_index=True)"
   ]
  },
  {
   "cell_type": "code",
   "execution_count": 47,
   "metadata": {},
   "outputs": [
    {
     "data": {
      "text/html": [
       "<div>\n",
       "<style scoped>\n",
       "    .dataframe tbody tr th:only-of-type {\n",
       "        vertical-align: middle;\n",
       "    }\n",
       "\n",
       "    .dataframe tbody tr th {\n",
       "        vertical-align: top;\n",
       "    }\n",
       "\n",
       "    .dataframe thead th {\n",
       "        text-align: right;\n",
       "    }\n",
       "</style>\n",
       "<table border=\"1\" class=\"dataframe\">\n",
       "  <thead>\n",
       "    <tr style=\"text-align: right;\">\n",
       "      <th></th>\n",
       "      <th>hits_25</th>\n",
       "      <th>counts</th>\n",
       "      <th>rec_cls</th>\n",
       "      <th>exp_number</th>\n",
       "      <th>exp_description</th>\n",
       "      <th>hits_perc</th>\n",
       "    </tr>\n",
       "  </thead>\n",
       "  <tbody>\n",
       "    <tr>\n",
       "      <th>0</th>\n",
       "      <td>656</td>\n",
       "      <td>4028</td>\n",
       "      <td>spatial</td>\n",
       "      <td>exp_003</td>\n",
       "      <td>Exp from the section 3.1 of the paper. But using an average bbox to compute the metrics.</td>\n",
       "      <td>16.29</td>\n",
       "    </tr>\n",
       "    <tr>\n",
       "      <th>1</th>\n",
       "      <td>10</td>\n",
       "      <td>90</td>\n",
       "      <td>ordinal</td>\n",
       "      <td>exp_003</td>\n",
       "      <td>Exp from the section 3.1 of the paper. But using an average bbox to compute the metrics.</td>\n",
       "      <td>11.11</td>\n",
       "    </tr>\n",
       "    <tr>\n",
       "      <th>2</th>\n",
       "      <td>194</td>\n",
       "      <td>1205</td>\n",
       "      <td>relational</td>\n",
       "      <td>exp_003</td>\n",
       "      <td>Exp from the section 3.1 of the paper. But using an average bbox to compute the metrics.</td>\n",
       "      <td>16.10</td>\n",
       "    </tr>\n",
       "    <tr>\n",
       "      <th>3</th>\n",
       "      <td>774</td>\n",
       "      <td>2290</td>\n",
       "      <td>intrinsic</td>\n",
       "      <td>exp_003</td>\n",
       "      <td>Exp from the section 3.1 of the paper. But using an average bbox to compute the metrics.</td>\n",
       "      <td>33.80</td>\n",
       "    </tr>\n",
       "  </tbody>\n",
       "</table>\n",
       "</div>"
      ],
      "text/plain": [
       "   hits_25  counts     rec_cls exp_number  \\\n",
       "0      656    4028     spatial    exp_003   \n",
       "1       10      90     ordinal    exp_003   \n",
       "2      194    1205  relational    exp_003   \n",
       "3      774    2290   intrinsic    exp_003   \n",
       "\n",
       "                                                                            exp_description  \\\n",
       "0  Exp from the section 3.1 of the paper. But using an average bbox to compute the metrics.   \n",
       "1  Exp from the section 3.1 of the paper. But using an average bbox to compute the metrics.   \n",
       "2  Exp from the section 3.1 of the paper. But using an average bbox to compute the metrics.   \n",
       "3  Exp from the section 3.1 of the paper. But using an average bbox to compute the metrics.   \n",
       "\n",
       "   hits_perc  \n",
       "0      16.29  \n",
       "1      11.11  \n",
       "2      16.10  \n",
       "3      33.80  "
      ]
     },
     "execution_count": 47,
     "metadata": {},
     "output_type": "execute_result"
    }
   ],
   "source": [
    "df_metrics_val_25"
   ]
  },
  {
   "cell_type": "code",
   "execution_count": 48,
   "metadata": {},
   "outputs": [
    {
     "data": {
      "text/html": [
       "<div>\n",
       "<style scoped>\n",
       "    .dataframe tbody tr th:only-of-type {\n",
       "        vertical-align: middle;\n",
       "    }\n",
       "\n",
       "    .dataframe tbody tr th {\n",
       "        vertical-align: top;\n",
       "    }\n",
       "\n",
       "    .dataframe thead th {\n",
       "        text-align: right;\n",
       "    }\n",
       "</style>\n",
       "<table border=\"1\" class=\"dataframe\">\n",
       "  <thead>\n",
       "    <tr style=\"text-align: right;\">\n",
       "      <th></th>\n",
       "      <th>hits_50</th>\n",
       "      <th>counts</th>\n",
       "      <th>rec_cls</th>\n",
       "      <th>exp_number</th>\n",
       "      <th>exp_description</th>\n",
       "      <th>hits_perc</th>\n",
       "    </tr>\n",
       "  </thead>\n",
       "  <tbody>\n",
       "    <tr>\n",
       "      <th>0</th>\n",
       "      <td>38</td>\n",
       "      <td>4028</td>\n",
       "      <td>spatial</td>\n",
       "      <td>exp_003</td>\n",
       "      <td>Exp from the section 3.1 of the paper. But using an average bbox to compute the metrics.</td>\n",
       "      <td>0.94</td>\n",
       "    </tr>\n",
       "    <tr>\n",
       "      <th>1</th>\n",
       "      <td>0</td>\n",
       "      <td>90</td>\n",
       "      <td>ordinal</td>\n",
       "      <td>exp_003</td>\n",
       "      <td>Exp from the section 3.1 of the paper. But using an average bbox to compute the metrics.</td>\n",
       "      <td>0.00</td>\n",
       "    </tr>\n",
       "    <tr>\n",
       "      <th>2</th>\n",
       "      <td>13</td>\n",
       "      <td>1205</td>\n",
       "      <td>relational</td>\n",
       "      <td>exp_003</td>\n",
       "      <td>Exp from the section 3.1 of the paper. But using an average bbox to compute the metrics.</td>\n",
       "      <td>1.08</td>\n",
       "    </tr>\n",
       "    <tr>\n",
       "      <th>3</th>\n",
       "      <td>60</td>\n",
       "      <td>2290</td>\n",
       "      <td>intrinsic</td>\n",
       "      <td>exp_003</td>\n",
       "      <td>Exp from the section 3.1 of the paper. But using an average bbox to compute the metrics.</td>\n",
       "      <td>2.62</td>\n",
       "    </tr>\n",
       "  </tbody>\n",
       "</table>\n",
       "</div>"
      ],
      "text/plain": [
       "   hits_50  counts     rec_cls exp_number  \\\n",
       "0       38    4028     spatial    exp_003   \n",
       "1        0      90     ordinal    exp_003   \n",
       "2       13    1205  relational    exp_003   \n",
       "3       60    2290   intrinsic    exp_003   \n",
       "\n",
       "                                                                            exp_description  \\\n",
       "0  Exp from the section 3.1 of the paper. But using an average bbox to compute the metrics.   \n",
       "1  Exp from the section 3.1 of the paper. But using an average bbox to compute the metrics.   \n",
       "2  Exp from the section 3.1 of the paper. But using an average bbox to compute the metrics.   \n",
       "3  Exp from the section 3.1 of the paper. But using an average bbox to compute the metrics.   \n",
       "\n",
       "   hits_perc  \n",
       "0       0.94  \n",
       "1       0.00  \n",
       "2       1.08  \n",
       "3       2.62  "
      ]
     },
     "execution_count": 48,
     "metadata": {},
     "output_type": "execute_result"
    }
   ],
   "source": [
    "df_metrics_val_50"
   ]
  },
  {
   "cell_type": "code",
   "execution_count": null,
   "metadata": {},
   "outputs": [],
   "source": []
  }
 ],
 "metadata": {
  "kernelspec": {
   "display_name": "rec-env",
   "language": "python",
   "name": "python3"
  },
  "language_info": {
   "codemirror_mode": {
    "name": "ipython",
    "version": 3
   },
   "file_extension": ".py",
   "mimetype": "text/x-python",
   "name": "python",
   "nbconvert_exporter": "python",
   "pygments_lexer": "ipython3",
   "version": "3.9.17"
  },
  "orig_nbformat": 4
 },
 "nbformat": 4,
 "nbformat_minor": 2
}
